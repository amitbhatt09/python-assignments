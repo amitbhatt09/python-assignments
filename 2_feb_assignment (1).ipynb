{
 "cells": [
  {
   "cell_type": "markdown",
   "id": "42944656-7b34-49c5-baa5-bde7419ffca4",
   "metadata": {},
   "source": [
    "## 1"
   ]
  },
  {
   "cell_type": "code",
   "execution_count": 4,
   "id": "d4ee9ade-9bc7-4ae5-81d4-637f709d1869",
   "metadata": {},
   "outputs": [],
   "source": [
    "\n",
    "Generally for loop is used when the number of iterations is known.\n",
    "\n",
    "\n",
    "for(initialization; condition; iteration){\n",
    "   //body of the 'for' loop\n",
    "}\n"
   ]
  },
  {
   "cell_type": "code",
   "execution_count": 5,
   "id": "e22e15a4-5c68-470a-9504-9d7600296b1e",
   "metadata": {},
   "outputs": [
    {
     "name": "stdout",
     "output_type": "stream",
     "text": [
      "list elements:\n",
      "amit\n",
      "25\n",
      "10\n",
      "pw\n",
      "0\n",
      "2\n"
     ]
    }
   ],
   "source": [
    "#input list\n",
    "l = [\"amit\", 25, 10, \"pw\",0, 2]\n",
    "print(\"list elements:\")\n",
    "# traversing through all elements of the list using for loop\n",
    "for element in l:\n",
    "# printing each element of the list\n",
    "   print(element)"
   ]
  },
  {
   "cell_type": "code",
   "execution_count": null,
   "id": "d600e45b-2f4e-402f-bec0-2ea8a6b83b88",
   "metadata": {},
   "outputs": [],
   "source": [
    "# Generally while loop is used when the number of iterations is not known.\n",
    "while ( condition) {\n",
    "   statements;\n",
    "   //body of the loop\n",
    "}\n",
    "Initializing a dummy variable with 1\n"
   ]
  },
  {
   "cell_type": "code",
   "execution_count": 8,
   "id": "f554a356-ac8d-4913-9fe6-b0e798e08073",
   "metadata": {},
   "outputs": [
    {
     "name": "stdout",
     "output_type": "stream",
     "text": [
      "1\n",
      "2\n",
      "3\n",
      "4\n",
      "5\n",
      "6\n",
      "7\n",
      "8\n",
      "9\n"
     ]
    }
   ],
   "source": [
    "i = 1\n",
    "# Iterate until the given condition is true\n",
    "while i < 10:\n",
    "   # printing the current value of the above variable\n",
    "   print(i)\n",
    "   # incrementing the value of i value by 1\n",
    "   i += 1 "
   ]
  },
  {
   "cell_type": "markdown",
   "id": "8bf1bc86-3497-433b-b867-3ed1ced8815c",
   "metadata": {},
   "source": [
    "## 2\n"
   ]
  },
  {
   "cell_type": "code",
   "execution_count": 14,
   "id": "99d14420-b688-46b1-a6a6-c18f946db1ee",
   "metadata": {},
   "outputs": [
    {
     "name": "stdout",
     "output_type": "stream",
     "text": [
      "Sum is 55\n"
     ]
    }
   ],
   "source": [
    "num = 10\n",
    "sum = 0\n",
    "while num > 0:\n",
    "    sum=sum+num\n",
    "    num=num-1\n",
    "print( \"Sum is\",sum)"
   ]
  },
  {
   "cell_type": "code",
   "execution_count": 17,
   "id": "1ce936af-eae6-49f0-9244-0f6988fc2eb9",
   "metadata": {},
   "outputs": [
    {
     "name": "stdout",
     "output_type": "stream",
     "text": [
      "Sum is 55\n"
     ]
    }
   ],
   "source": [
    "n = 10\n",
    "sum = 0\n",
    "for i in range(1,n+1):\n",
    "    sum=sum+i\n",
    "print(\"Sum is\",sum)"
   ]
  },
  {
   "cell_type": "markdown",
   "id": "a7d75b98-3045-42b1-bc36-7ce0014a3289",
   "metadata": {},
   "source": [
    "## 3"
   ]
  },
  {
   "cell_type": "code",
   "execution_count": 9,
   "id": "6b66d4e9-13f4-41c9-9785-0a82d30b19a9",
   "metadata": {},
   "outputs": [
    {
     "name": "stdin",
     "output_type": "stream",
     "text": [
      "Enter unit consumed by a user 310\n"
     ]
    },
    {
     "name": "stdout",
     "output_type": "stream",
     "text": [
      "Bill is 2250.0\n"
     ]
    }
   ],
   "source": [
    "units = int(input(\"Enter unit consumed by a user\"))\n",
    "bill = 0\n",
    "if units > 0 and units <= 100:\n",
    "    bill = 4.5*units\n",
    "elif units > 100 and units <= 200:\n",
    "    bill = 100*4.5+(units-100)*6\n",
    "elif units > 200 and units <= 300:\n",
    "    bill = 100*4.5+100*6+(units-200)*10\n",
    "else:\n",
    "    bill = 100*4.5+100*6+100*10+(units-300)*20\n",
    "print(\"Bill is\",bill)\n",
    "    "
   ]
  },
  {
   "cell_type": "markdown",
   "id": "bfdf9f0a-de28-4296-b02c-1978316b7ca2",
   "metadata": {},
   "source": [
    "## 4"
   ]
  },
  {
   "cell_type": "code",
   "execution_count": 15,
   "id": "0ca1a815-05dc-44d6-864c-09327632ea25",
   "metadata": {},
   "outputs": [],
   "source": [
    "l=list(range(1,101))"
   ]
  },
  {
   "cell_type": "code",
   "execution_count": 16,
   "id": "3c0b2dee-8513-4cd8-9e75-b0143472c0e5",
   "metadata": {},
   "outputs": [
    {
     "name": "stdout",
     "output_type": "stream",
     "text": [
      "[1, 8, 27, 64, 125, 216, 343, 512, 729, 1000, 1331, 1728, 2197, 2744, 3375, 4096, 4913, 5832, 6859, 8000, 9261, 10648, 12167, 13824, 15625, 17576, 19683, 21952, 24389, 27000, 29791, 32768, 35937, 39304, 42875, 46656, 50653, 54872, 59319, 64000, 68921, 74088, 79507, 85184, 91125, 97336, 103823, 110592, 117649, 125000, 132651, 140608, 148877, 157464, 166375, 175616, 185193, 195112, 205379, 216000, 226981, 238328, 250047, 262144, 274625, 287496, 300763, 314432, 328509, 343000, 357911, 373248, 389017, 405224, 421875, 438976, 456533, 474552, 493039, 512000, 531441, 551368, 571787, 592704, 614125, 636056, 658503, 681472, 704969, 729000, 753571, 778688, 804357, 830584, 857375, 884736, 912673, 941192, 970299, 1000000]\n"
     ]
    }
   ],
   "source": [
    "l1=[]\n",
    "for i in l:\n",
    "    l1.append(i**3)\n",
    "print(l1)"
   ]
  },
  {
   "cell_type": "code",
   "execution_count": 24,
   "id": "fa9091e1-2cc2-4acf-920e-93a3bfc3811a",
   "metadata": {},
   "outputs": [
    {
     "name": "stdout",
     "output_type": "stream",
     "text": [
      "[4, 5, 8, 10, 12, 15, 16, 20, 24, 25, 28, 30, 32, 35, 36, 40, 44, 45, 48, 50, 52, 55, 56, 60, 64, 65, 68, 70, 72, 75, 76, 80, 84, 85, 88, 90, 92, 95, 96, 100]\n"
     ]
    }
   ],
   "source": [
    "l2=[]\n",
    "for i in l:\n",
    "    if i%4==0 or i%5==0:\n",
    "        l2.append(i)\n",
    "print(l2)"
   ]
  },
  {
   "cell_type": "markdown",
   "id": "2111aa69-e0fd-40ed-8f0b-3118a29b7096",
   "metadata": {},
   "source": [
    "## 5"
   ]
  },
  {
   "cell_type": "code",
   "execution_count": 32,
   "id": "e26d5f6a-7140-40bd-a068-74d97a5e87ff",
   "metadata": {},
   "outputs": [],
   "source": [
    "s = \"I want to become a data scientist\""
   ]
  },
  {
   "cell_type": "code",
   "execution_count": 33,
   "id": "1e565902-e72c-4509-9486-b60c5141bf47",
   "metadata": {},
   "outputs": [
    {
     "name": "stdout",
     "output_type": "stream",
     "text": [
      "count of vowels is 12\n"
     ]
    }
   ],
   "source": [
    "c=0\n",
    "list = ['a','e','i','o','u','A','E','I','O','U']\n",
    "for i in s:\n",
    "    if i in list:\n",
    "        c=c+1\n",
    "print(\"count of vowels is\",c)\n"
   ]
  },
  {
   "cell_type": "code",
   "execution_count": null,
   "id": "bd133386-d65f-4c89-9101-1c9572ec955e",
   "metadata": {},
   "outputs": [],
   "source": []
  }
 ],
 "metadata": {
  "kernelspec": {
   "display_name": "Python 3 (ipykernel)",
   "language": "python",
   "name": "python3"
  },
  "language_info": {
   "codemirror_mode": {
    "name": "ipython",
    "version": 3
   },
   "file_extension": ".py",
   "mimetype": "text/x-python",
   "name": "python",
   "nbconvert_exporter": "python",
   "pygments_lexer": "ipython3",
   "version": "3.10.8"
  }
 },
 "nbformat": 4,
 "nbformat_minor": 5
}
