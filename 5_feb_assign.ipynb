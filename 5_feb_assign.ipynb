{
 "cells": [
  {
   "cell_type": "markdown",
   "id": "158aeab8-e8c4-4aa6-9227-dcec31f4b886",
   "metadata": {},
   "source": [
    "## 1"
   ]
  },
  {
   "cell_type": "raw",
   "id": "cf0940cc-4780-456e-a463-630960476b27",
   "metadata": {},
   "source": [
    "A class is considered as a blueprint of objects. We can think of the class as a sketch (prototype) of a house. It contains all the details about the floors, doors, windows, etc. Based on these descriptions we build the house. House is the object.\n",
    "Since many houses can be made from the same description, we can create many objects from a class.\n",
    "An object is called an instance of a class. For example, suppose Bike is a class then we can create objects like bike1, bike2, etc from the class."
   ]
  },
  {
   "cell_type": "code",
   "execution_count": null,
   "id": "aa60247b-e0e3-4894-8d30-7c8e3f59da3b",
   "metadata": {},
   "outputs": [],
   "source": [
    "# create class\n",
    "class Bike:\n",
    "    name = \"royal enfield\"\n",
    "    gear = 5\n",
    "\n",
    "# create objects of class\n",
    "bike1 = Bike()"
   ]
  },
  {
   "cell_type": "markdown",
   "id": "1322ade4-b572-494e-9ea8-046f0856bad8",
   "metadata": {},
   "source": [
    "## 2"
   ]
  },
  {
   "cell_type": "code",
   "execution_count": null,
   "id": "f4da9f91-d697-4b0b-b0b5-68f694e27af0",
   "metadata": {},
   "outputs": [],
   "source": [
    "Four pillars of OOPS \n",
    "Inheritance, Polymorphism, Encapsulation and Abstraction"
   ]
  },
  {
   "cell_type": "markdown",
   "id": "5c02b032-6b1b-4b29-9e1e-67251fed193a",
   "metadata": {},
   "source": [
    "## 3"
   ]
  },
  {
   "cell_type": "raw",
   "id": "ff8bb311-cad6-462b-ac70-4dfeda67de2b",
   "metadata": {},
   "source": [
    "The __init__() function to assign values to object properties, \n",
    "or other operations that are necessary to do when the object is being created"
   ]
  },
  {
   "cell_type": "code",
   "execution_count": 2,
   "id": "142b8ed7-8fcd-40ed-a2a7-d816ae892216",
   "metadata": {},
   "outputs": [
    {
     "name": "stdout",
     "output_type": "stream",
     "text": [
      "Amit\n",
      "23\n"
     ]
    }
   ],
   "source": [
    "class student:\n",
    "    def __init__(self, name, age):\n",
    "        self.name = name\n",
    "        self.age = age\n",
    "\n",
    "s1 = student(\"Amit\", 23)\n",
    "\n",
    "print(s1.name)\n",
    "print(s1.age)"
   ]
  },
  {
   "cell_type": "markdown",
   "id": "c60aedb5-612f-445e-a614-5577b46b3966",
   "metadata": {},
   "source": [
    "## 4"
   ]
  },
  {
   "cell_type": "raw",
   "id": "00bd4c7c-a18d-4b95-abee-3fd770028e0e",
   "metadata": {},
   "source": [
    "self represents the instance of the class. By using the “self” \n",
    "we can access the attributes and methods of the class in python.\n",
    "Self is the first argument to be passed in Constructor and Instance Method."
   ]
  },
  {
   "cell_type": "markdown",
   "id": "6ebc8206-3dfa-449a-8d20-04a6767a10c7",
   "metadata": {},
   "source": [
    "## 5"
   ]
  },
  {
   "cell_type": "raw",
   "id": "cfd9811b-b532-41c2-9596-cfb2c1b38a52",
   "metadata": {},
   "source": [
    "Inheritance is a mechanism in which one class acquires the property of another class. \n",
    "For example, a child inherits the traits of his/her parents. With inheritance, \n",
    "we can reuse the fields and methods of the existing class. \n",
    "Hence, inheritance facilitates Reusability and is an important concept of OOPs.\n",
    "There are five types of inheritances:\n",
    "\n",
    "1. Single Inheritance\n",
    "2. Multiple Inheritance\n",
    "3. Multilevel Inheritance\n",
    "4. Hierarchical Inheritance\n",
    "5. Hybrid Inheritance"
   ]
  }
 ],
 "metadata": {
  "kernelspec": {
   "display_name": "Python 3 (ipykernel)",
   "language": "python",
   "name": "python3"
  },
  "language_info": {
   "codemirror_mode": {
    "name": "ipython",
    "version": 3
   },
   "file_extension": ".py",
   "mimetype": "text/x-python",
   "name": "python",
   "nbconvert_exporter": "python",
   "pygments_lexer": "ipython3",
   "version": "3.10.8"
  }
 },
 "nbformat": 4,
 "nbformat_minor": 5
}
