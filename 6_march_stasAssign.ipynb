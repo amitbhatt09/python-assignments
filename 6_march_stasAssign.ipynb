{
 "cells": [
  {
   "cell_type": "markdown",
   "id": "3c58b8fb-03b0-4a2a-9352-355c3e995bb5",
   "metadata": {},
   "source": [
    "### 1"
   ]
  },
  {
   "cell_type": "markdown",
   "id": "16f733a6-7aeb-4fd3-96cb-d1f0937a60b8",
   "metadata": {},
   "source": [
    "Statistics is a branch of mathematics that deals with the collection, analysis,\n",
    "interpretation, presentation, and organization of data. It is used to describe and \n",
    "summarize the data, as well as to make \n",
    "inferences and predictions based on the data"
   ]
  },
  {
   "cell_type": "markdown",
   "id": "4c062e30-fced-445b-8c07-73d50a16db86",
   "metadata": {},
   "source": [
    "### 2"
   ]
  },
  {
   "cell_type": "markdown",
   "id": "200c4e5f-afa8-4cd7-b3b0-6ba1fd9aaee0",
   "metadata": {},
   "source": [
    "There are two main types of statistics: descriptive statistics and inferential statistics.\n",
    "\n",
    "1--> Descriptive Statistics:\n",
    "Descriptive statistics is used to describe and summarize data. This type of statistics is used to provide an overview of the main characteristics of a dataset. Some examples of descriptive statistics include measures of central tendency (e.g. mean, median, mode), measures of dispersion (e.g. range, variance, standard deviation), and graphs and charts (e.g. histogram, scatter plot). For instance, descriptive statistics might be used to summarize the test scores of a group of students. A teacher might calculate the mean and standard deviation of the test scores to understand the average performance of the students and the degree of variability in their scores.\n",
    "\n",
    "2--> Inferential Statistics:\n",
    "Inferential statistics is used to make inferences and predictions about a larger population based on a sample. This type of statistics is used to test hypotheses, estimate population parameters, and make predictions. Some examples of inferential statistics include hypothesis testing, confidence intervals, and regression analysis. For instance, inferential statistics might be used to determine if a new drug is effective in treating a disease. Researchers might conduct a randomized controlled trial with a sample of patients and use inferential statistics to determine if the observed treatment effects are statistically significant and can be generalized to the larger population of patients with the disease."
   ]
  },
  {
   "cell_type": "markdown",
   "id": "03f516bd-b7c3-4362-bb19-cf6cfb385752",
   "metadata": {},
   "source": [
    "### 3"
   ]
  },
  {
   "cell_type": "markdown",
   "id": "7ae1ecf9-a3cc-4098-b4cc-6453651f03d0",
   "metadata": {},
   "source": [
    "There are four main types of data: nominal, ordinal, interval, and ratio.\n",
    "\n",
    "1--> Nominal Data:\n",
    "Nominal data is categorical data that can be placed into categories but cannot be ranked or ordered. The categories in nominal data do not have any inherent order or value. Examples of nominal data include gender, race, and type of car. For instance, a survey might ask participants to indicate their gender as male or female. The responses can be tallied and compared, but they cannot be ranked or ordered.\n",
    "\n",
    "2--> Ordinal Data:\n",
    "Ordinal data is categorical data that can be placed into categories and can be ranked or ordered. The categories in ordinal data have an inherent order or value. Examples of ordinal data include rating scales, such as a Likert scale or a star rating system. For instance, a restaurant might ask customers to rate their experience on a scale of 1 to 5 stars. The responses can be tallied and compared, and they can also be ranked or ordered.\n",
    "\n",
    "3--> Interval Data:\n",
    "Interval data is numerical data where the distance between two values is meaningful and consistent, but there is no true zero point. Examples of interval data include temperature in Celsius or Fahrenheit. For instance, a thermometer might read 20 degrees Celsius. We can say that 20 degrees is 5 degrees warmer than 15 degrees, but we cannot say that 20 degrees is twice as hot as 10 degrees because there is no true zero point.\n",
    "\n",
    "4--> Ratio Data:\n",
    "Ratio data is numerical data where the distance between two values is meaningful and consistent, and there is a true zero point. Examples of ratio data include height, weight, and time. For instance, if a person weighs 60 kilograms, we can say that they weigh twice as much as a person who weighs 30 kilograms because 0 kilograms represents a true absence of weight.\n",
    "\n",
    "In summary, nominal data is categorical data that cannot be ranked, ordinal data is categorical data that can be ranked, interval data is numerical data without a true zero point, and ratio data is numerical data with a true zero point."
   ]
  },
  {
   "cell_type": "markdown",
   "id": "10a21df7-d9b6-4232-85ae-d3ede5d01ace",
   "metadata": {},
   "source": [
    "### 4"
   ]
  },
  {
   "cell_type": "markdown",
   "id": "def31880-2353-4c59-8c33-db1e962c54fb",
   "metadata": {},
   "source": [
    "(i) Grading in exam: qualitative (ordinal) data\n",
    "(ii) Colour of mangoes: qualitative (nominal) data\n",
    "(iii) Height data of a class: quantitative (continuous) data\n",
    "(iv) Number of mangoes exported by a farm: quantitative (discrete) data"
   ]
  },
  {
   "cell_type": "markdown",
   "id": "596f8fc5-b558-4931-8875-0c0ad868ef75",
   "metadata": {},
   "source": [
    "### 5"
   ]
  },
  {
   "cell_type": "markdown",
   "id": "fbf2e30f-0328-419f-8216-77867766219c",
   "metadata": {},
   "source": [
    "Levels of measurement refer to the different types or levels of information that can be obtained from a variable. There are four levels of measurement: nominal, ordinal, interval, and ratio.\n",
    "\n",
    "1--> Nominal Level of Measurement:\n",
    "Nominal level of measurement is the lowest level of measurement. It is used for variables that can be placed into categories but cannot be ranked or ordered. Examples of nominal level variables include gender, religion, and blood type. For instance, a survey might ask participants to indicate their religion as Christian, Muslim, Hindu, or other.\n",
    "\n",
    "2--> Ordinal Level of Measurement:\n",
    "Ordinal level of measurement is used for variables that can be placed into categories and can be ranked or ordered. Examples of ordinal level variables include rating scales, such as a Likert scale or a star rating system. For instance, a survey might ask participants to rate their satisfaction with a product on a scale of 1 to 5 stars.\n",
    "\n",
    "3--> Interval Level of Measurement:\n",
    "Interval level of measurement is used for variables where the distance between two values is meaningful and consistent, but there is no true zero point. Examples of interval level variables include temperature in Celsius or Fahrenheit. For instance, a thermometer might read 20 degrees Celsius. We can say that 20 degrees is 5 degrees warmer than 15 degrees, but we cannot say that 20 degrees is twice as hot as 10 degrees because there is no true zero point.\n",
    "\n",
    "4--> Ratio Level of Measurement:\n",
    "Ratio level of measurement is the highest level of measurement. It is used for variables where the distance between two values is meaningful and consistent, and there is a true zero point. Examples of ratio level variables include height, weight, and time. For instance, if a person weighs 60 kilograms, we can say that they weigh twice as much as a person who weighs 30 kilograms because 0 kilograms represents a true absence of weight.\n",
    "\n",
    "In summary, nominal level of measurement is used for variables that can be placed into categories but cannot be ranked, ordinal level of measurement is used for variables that can be ranked, interval level of measurement is used for variables without a true zero point, and ratio level of measurement is used for variables with a true zero point."
   ]
  },
  {
   "cell_type": "markdown",
   "id": "aedcc9f1-d1cd-4d7e-8aa4-11e52e724e0f",
   "metadata": {},
   "source": [
    "### 6"
   ]
  },
  {
   "cell_type": "markdown",
   "id": "0b467f99-13ce-4e16-829a-a0b5192323e6",
   "metadata": {},
   "source": [
    "Understanding the level of measurement is important when analyzing data because it helps to determine which statistical analysis methods are appropriate for the data. Each level of measurement has specific properties that determine the types of analysis that can be performed on the data."
   ]
  },
  {
   "cell_type": "markdown",
   "id": "6e3db321-977c-48c5-a6d7-d44d74656b7b",
   "metadata": {},
   "source": [
    "### 7"
   ]
  },
  {
   "cell_type": "markdown",
   "id": "5f145390-5ffa-4c34-8af4-f0620370275a",
   "metadata": {},
   "source": [
    "The main difference between nominal and ordinal data is that nominal data cannot be ranked or ordered, while ordinal data can be ranked or ordered. Ordinal data provides more information than nominal data because it includes an ordering or ranking of categories. For example, a student's grade level (freshman, sophomore, junior, senior) provides more information than just knowing whether they are an undergraduate or a graduate student (nominal data)"
   ]
  },
  {
   "cell_type": "markdown",
   "id": "0fb5ac0f-8ea9-4709-99cf-d3782b1de0f6",
   "metadata": {},
   "source": [
    "### 8"
   ]
  },
  {
   "cell_type": "markdown",
   "id": "5cfadb0a-cac6-4d8d-b584-176ba6a2a278",
   "metadata": {},
   "source": [
    "Descriptive and inferential statistics are two branches of statistics used in analyzing data.\n",
    "\n",
    "Descriptive statistics are used to summarize and describe the main features of a dataset, such as the central tendency (mean, median, mode) and the spread or variability (standard deviation, variance) of the data. Descriptive statistics can also be used to visualize data through graphs or charts, such as histograms or box plots. The purpose of descriptive statistics is to provide a clear and concise summary of the data, without making any inferences or generalizations beyond the data itself.\n",
    "\n",
    "An example of descriptive statistics would be a summary report of the number of students in a classroom based on their gender, age, and grade level. This report could include the mean, median, and mode of each variable, as well as other summary statistics such as the range and standard deviation.\n",
    "\n",
    "Inferential statistics, on the other hand, are used to make generalizations or draw conclusions about a population based on a sample of data. Inferential statistics involve hypothesis testing, which is the process of testing a hypothesis about a population using sample data. The purpose of inferential statistics is to make predictions or draw conclusions about a population based on the sample data, while accounting for sampling variability and other sources of error.\n",
    "\n",
    "An example of inferential statistics would be a study that aims to determine whether a new drug is effective in treating a specific medical condition. The researchers would recruit a sample of patients with the medical condition and randomly assign them to either a treatment group (receiving the new drug) or a control group (receiving a placebo or standard treatment). The researchers would then use inferential statistics to determine whether the difference in outcomes between the treatment and control groups is statistically significant, which would indicate whether the new drug is effective in treating the condition.\n",
    "\n",
    "In summary, descriptive statistics are used to summarize and describe the main features of a dataset, while inferential statistics are used to make generalizations or draw conclusions about a population based on a sample of data."
   ]
  },
  {
   "cell_type": "markdown",
   "id": "0b30aeb2-f20e-4f00-be29-ecf86e1ac771",
   "metadata": {},
   "source": [
    "### 10"
   ]
  },
  {
   "cell_type": "code",
   "execution_count": null,
   "id": "b59029ef-6d87-4c63-84bd-f14dec8e62d3",
   "metadata": {},
   "outputs": [],
   "source": []
  }
 ],
 "metadata": {
  "kernelspec": {
   "display_name": "Python 3 (ipykernel)",
   "language": "python",
   "name": "python3"
  },
  "language_info": {
   "codemirror_mode": {
    "name": "ipython",
    "version": 3
   },
   "file_extension": ".py",
   "mimetype": "text/x-python",
   "name": "python",
   "nbconvert_exporter": "python",
   "pygments_lexer": "ipython3",
   "version": "3.10.8"
  }
 },
 "nbformat": 4,
 "nbformat_minor": 5
}
