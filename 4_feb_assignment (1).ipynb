{
 "cells": [
  {
   "cell_type": "markdown",
   "id": "c1fc8b18-d389-42c0-912f-c647ec2591d5",
   "metadata": {},
   "source": [
    "## 1"
   ]
  },
  {
   "cell_type": "code",
   "execution_count": 8,
   "id": "4de13056-cf4b-4243-9225-87d28a991990",
   "metadata": {},
   "outputs": [
    {
     "name": "stdout",
     "output_type": "stream",
     "text": [
      "Before sorting\n",
      "[('Sachin Tendulkar', 34357), ('Ricky Ponting', 27483), ('Jack Kallis', 25534), ('Virat Kohli', 24936)]\n",
      "After sorting\n",
      "[('Virat Kohli', 24936), ('Jack Kallis', 25534), ('Ricky Ponting', 27483), ('Sachin Tendulkar', 34357)]\n"
     ]
    }
   ],
   "source": [
    "l = [('Sachin Tendulkar', 34357), ('Ricky Ponting', 27483), ('Jack Kallis', 25534), ('Virat Kohli', 24936)]\n",
    "print(\"Before sorting\")\n",
    "print(l)\n",
    "l1=sorted(l,key = lambda x:x[1],reverse=False)\n",
    "print(\"After sorting\")\n",
    "print(l1)\n"
   ]
  },
  {
   "cell_type": "markdown",
   "id": "1ac268bd-22e3-4a08-b0e8-e29065eb8f27",
   "metadata": {},
   "source": [
    "## 2"
   ]
  },
  {
   "cell_type": "code",
   "execution_count": 9,
   "id": "dda4a948-87c7-4828-afa0-9aa824ba75c9",
   "metadata": {},
   "outputs": [
    {
     "data": {
      "text/plain": [
       "[2, 4, 6, 8, 10, 12, 14, 16, 18, 20]"
      ]
     },
     "execution_count": 9,
     "metadata": {},
     "output_type": "execute_result"
    }
   ],
   "source": [
    "l2=[1, 2, 3, 4, 5, 6, 7, 8, 9, 10]\n",
    "list(map(lambda x:x*2,l2))"
   ]
  },
  {
   "cell_type": "markdown",
   "id": "ac5b2dbd-f9df-4203-9a8b-a541b9e9260c",
   "metadata": {},
   "source": [
    "## 3"
   ]
  },
  {
   "cell_type": "code",
   "execution_count": 14,
   "id": "7778a54f-38b3-415a-8b39-3592394c127b",
   "metadata": {},
   "outputs": [
    {
     "name": "stdout",
     "output_type": "stream",
     "text": [
      "Original tuple is : [1, 2, 3, 4, 5, 6, 7, 8, 9, 10]\n",
      "Modified tuple is : ('1', '2', '3', '4', '5', '6', '7', '8', '9', '10')\n"
     ]
    }
   ],
   "source": [
    "test_tuple = [1,2,3,4,5,6,7,8,9,10]\n",
    "print (\"Original tuple is : \" + str(test_tuple))\n",
    "test_tuple = tuple(map(str, test_tuple))\n",
    "print(\"Modified tuple is : \" + str(test_tuple))\n",
    "\n"
   ]
  },
  {
   "cell_type": "markdown",
   "id": "24fef1b3-53df-4071-850c-fb44aeb92175",
   "metadata": {},
   "source": [
    "## 4"
   ]
  },
  {
   "cell_type": "code",
   "execution_count": 21,
   "id": "285f40fc-64b8-45c2-ad18-e093bb93851f",
   "metadata": {},
   "outputs": [],
   "source": [
    "l=list(range(1,25))\n",
    "from functools import reduce"
   ]
  },
  {
   "cell_type": "code",
   "execution_count": 22,
   "id": "7132312d-937b-402f-bea8-9446af09c984",
   "metadata": {},
   "outputs": [
    {
     "data": {
      "text/plain": [
       "620448401733239439360000"
      ]
     },
     "execution_count": 22,
     "metadata": {},
     "output_type": "execute_result"
    }
   ],
   "source": [
    "reduce(lambda x,y:x*y,l)"
   ]
  },
  {
   "cell_type": "markdown",
   "id": "04a223c3-5f37-43da-9972-54269eea334d",
   "metadata": {},
   "source": [
    "## 5"
   ]
  },
  {
   "cell_type": "code",
   "execution_count": 25,
   "id": "f35a119a-9e58-4087-8e5b-48ae38b66ae4",
   "metadata": {},
   "outputs": [
    {
     "data": {
      "text/plain": [
       "[6, 60, 90, 120]"
      ]
     },
     "execution_count": 25,
     "metadata": {},
     "output_type": "execute_result"
    }
   ],
   "source": [
    "l=[2, 3, 6, 9, 27, 60, 90, 120, 55, 46]\n",
    "list(filter(lambda x : x%2==0 and x%3==0, l ))"
   ]
  },
  {
   "cell_type": "markdown",
   "id": "805578ba-dfdc-4efd-b6da-8645203f9695",
   "metadata": {},
   "source": [
    "## 6"
   ]
  },
  {
   "cell_type": "code",
   "execution_count": 26,
   "id": "638b9f55-38ab-4eda-9c23-c5e8352f86fc",
   "metadata": {},
   "outputs": [
    {
     "name": "stdout",
     "output_type": "stream",
     "text": [
      "Orginal list of strings:\n",
      "['php', 'radar', 'Python', 'aba']\n",
      "\n",
      "List of palindromes:\n",
      "['php', 'radar', 'aba']\n"
     ]
    }
   ],
   "source": [
    "texts = [\"php\", \"radar\", \"Python\", \"aba\"]\n",
    "print(\"Orginal list of strings:\")\n",
    "print(texts) \n",
    "result = list(filter(lambda x: (x == \"\".join(reversed(x))), texts)) \n",
    "print(\"\\nList of palindromes:\")\n",
    "print(result) "
   ]
  },
  {
   "cell_type": "code",
   "execution_count": null,
   "id": "b7a0a7a2-0f38-4824-8208-3fef280a5296",
   "metadata": {},
   "outputs": [],
   "source": []
  }
 ],
 "metadata": {
  "kernelspec": {
   "display_name": "Python 3 (ipykernel)",
   "language": "python",
   "name": "python3"
  },
  "language_info": {
   "codemirror_mode": {
    "name": "ipython",
    "version": 3
   },
   "file_extension": ".py",
   "mimetype": "text/x-python",
   "name": "python",
   "nbconvert_exporter": "python",
   "pygments_lexer": "ipython3",
   "version": "3.10.8"
  }
 },
 "nbformat": 4,
 "nbformat_minor": 5
}
