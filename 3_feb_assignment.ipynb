{
 "cells": [
  {
   "cell_type": "markdown",
   "id": "da144277-2304-425f-8712-8eff04177450",
   "metadata": {},
   "source": [
    "## 1\n"
   ]
  },
  {
   "cell_type": "raw",
   "id": "40bdb7fd-1837-473d-84a6-2130846f79b7",
   "metadata": {},
   "source": [
    "def keyword is used to create function in python"
   ]
  },
  {
   "cell_type": "code",
   "execution_count": 14,
   "id": "327b60ac-febf-43f5-a815-f434a964d996",
   "metadata": {},
   "outputs": [],
   "source": [
    "l=list(range(1,25))\n"
   ]
  },
  {
   "cell_type": "code",
   "execution_count": 15,
   "id": "55b51669-7449-4b55-8c5e-1af44ebcb687",
   "metadata": {},
   "outputs": [],
   "source": [
    "l1=[]\n",
    "def odd(l):\n",
    "    for i in l:\n",
    "        if i%2!=0:\n",
    "            l1.append(i)\n",
    "    return l1"
   ]
  },
  {
   "cell_type": "code",
   "execution_count": 19,
   "id": "4ee58922-b297-439f-a376-77b35fb1981c",
   "metadata": {},
   "outputs": [
    {
     "ename": "NameError",
     "evalue": "name 'i' is not defined",
     "output_type": "error",
     "traceback": [
      "\u001b[0;31m---------------------------------------------------------------------------\u001b[0m",
      "\u001b[0;31mNameError\u001b[0m                                 Traceback (most recent call last)",
      "Cell \u001b[0;32mIn[19], line 1\u001b[0m\n\u001b[0;32m----> 1\u001b[0m odd(\u001b[43mi\u001b[49m)\n",
      "\u001b[0;31mNameError\u001b[0m: name 'i' is not defined"
     ]
    }
   ],
   "source": [
    "odd(i)"
   ]
  },
  {
   "cell_type": "markdown",
   "id": "b23a123d-fe50-497e-811f-2eadf1623daf",
   "metadata": {},
   "source": [
    "## 2"
   ]
  },
  {
   "cell_type": "raw",
   "id": "b2bf150b-f25e-4cd2-8b2b-a0eb278acef9",
   "metadata": {},
   "source": [
    "We use *args and **kwargs as an argument when we are unsure about the number of \n",
    "arguments to pass in the functions.\n",
    "\n"
   ]
  },
  {
   "cell_type": "code",
   "execution_count": 26,
   "id": "d6cc2733-80ea-44b3-b963-a506d0a9f050",
   "metadata": {},
   "outputs": [],
   "source": [
    "def test1(*amit):\n",
    "    return amit\n",
    "    "
   ]
  },
  {
   "cell_type": "code",
   "execution_count": 28,
   "id": "1e94d263-8fcc-4517-ac39-23c511731829",
   "metadata": {},
   "outputs": [
    {
     "data": {
      "text/plain": [
       "(1, 7, 8, 5, 6)"
      ]
     },
     "execution_count": 28,
     "metadata": {},
     "output_type": "execute_result"
    }
   ],
   "source": [
    "test1(1,7,8,5,6)"
   ]
  },
  {
   "cell_type": "code",
   "execution_count": 30,
   "id": "d9980b1c-d543-470d-a3f1-18d6708ba991",
   "metadata": {},
   "outputs": [],
   "source": [
    "def test2(**amit):\n",
    "    return amit\n"
   ]
  },
  {
   "cell_type": "code",
   "execution_count": 32,
   "id": "4015875f-0c6a-4079-8241-3236b1223050",
   "metadata": {},
   "outputs": [
    {
     "data": {
      "text/plain": [
       "{'a': ['amit'], 'b': ['bhatt'], 'c': 12, 'd': 45, 'e': 78.9}"
      ]
     },
     "execution_count": 32,
     "metadata": {},
     "output_type": "execute_result"
    }
   ],
   "source": [
    "test2(a=[\"amit\"],b=[\"bhatt\"],c=12,d=45,e=78.9)"
   ]
  },
  {
   "cell_type": "markdown",
   "id": "8c768472-f5a5-4a71-aaca-a7decc0b0c37",
   "metadata": {},
   "source": [
    "## 3"
   ]
  },
  {
   "cell_type": "raw",
   "id": "7b2cd175-e7e0-4688-82f9-a9cdc793212a",
   "metadata": {},
   "source": [
    "An iterator is an object that contains a countable number of values.\n",
    "Iterator in Python is an object that is used to iterate over iterable objects like lists, tuples, dicts, and sets.\n",
    "\n",
    "__iter__() is used to initialise the iterator object And\n",
    "__next__() is used for iteration.\n"
   ]
  },
  {
   "cell_type": "code",
   "execution_count": 34,
   "id": "1242b97a-92e1-48ef-b8a1-9288cea9b00d",
   "metadata": {},
   "outputs": [],
   "source": [
    "l=[2,4,6,8,10,12,14,16,18,20]"
   ]
  },
  {
   "cell_type": "code",
   "execution_count": 35,
   "id": "b5eccf54-6042-4671-9d4b-3fb66f86deca",
   "metadata": {},
   "outputs": [],
   "source": [
    "itr = iter(l)"
   ]
  },
  {
   "cell_type": "code",
   "execution_count": 37,
   "id": "61e391d9-b6e6-4b48-a1f3-cfd1eea749a8",
   "metadata": {},
   "outputs": [
    {
     "name": "stdout",
     "output_type": "stream",
     "text": [
      "2\n"
     ]
    }
   ],
   "source": [
    "print(next(itr))"
   ]
  },
  {
   "cell_type": "code",
   "execution_count": 38,
   "id": "8a4e159f-fbd9-4468-b2d8-06c5fa1bcf5d",
   "metadata": {},
   "outputs": [
    {
     "name": "stdout",
     "output_type": "stream",
     "text": [
      "4\n"
     ]
    }
   ],
   "source": [
    "print(next(itr))"
   ]
  },
  {
   "cell_type": "code",
   "execution_count": 39,
   "id": "68b12790-6d87-4b5f-80f4-4a5075d5a61e",
   "metadata": {},
   "outputs": [
    {
     "name": "stdout",
     "output_type": "stream",
     "text": [
      "6\n"
     ]
    }
   ],
   "source": [
    "print(next(itr))"
   ]
  },
  {
   "cell_type": "code",
   "execution_count": 40,
   "id": "895b2339-0260-41fb-a7fb-ec4087e33560",
   "metadata": {},
   "outputs": [
    {
     "name": "stdout",
     "output_type": "stream",
     "text": [
      "8\n"
     ]
    }
   ],
   "source": [
    "print(next(itr))"
   ]
  },
  {
   "cell_type": "code",
   "execution_count": 41,
   "id": "8bf5a8d7-f00e-41d4-af91-d48f74fb5a9e",
   "metadata": {},
   "outputs": [
    {
     "name": "stdout",
     "output_type": "stream",
     "text": [
      "10\n"
     ]
    }
   ],
   "source": [
    "print(next(itr))"
   ]
  },
  {
   "cell_type": "markdown",
   "id": "fbf0ebde-949e-419d-9278-04eb6f28179e",
   "metadata": {},
   "source": [
    "## 4"
   ]
  },
  {
   "cell_type": "raw",
   "id": "5166addc-f3a1-4110-8492-fd728d4940dd",
   "metadata": {},
   "source": [
    "In Python, a generator is a function that returns an iterator that produces a sequence of values when iterated over.\n",
    "Generators are useful when we want to produce a large sequence of values, but we don't want to store all of them in memory at once.\n",
    "In Python, similar to defining a normal function, we can define a generator function using the def keyword, but instead of the return statement we use the yield statement."
   ]
  },
  {
   "cell_type": "raw",
   "id": "d7b3396b-e5af-4b95-811d-15b855c15fab",
   "metadata": {},
   "source": [
    "Here, the yield keyword is used to produce a value from the generator."
   ]
  },
  {
   "cell_type": "code",
   "execution_count": 58,
   "id": "2b0a3578-7223-40f5-a80e-8ab2132e235a",
   "metadata": {},
   "outputs": [
    {
     "data": {
      "text/plain": [
       "range(0, 10)"
      ]
     },
     "execution_count": 58,
     "metadata": {},
     "output_type": "execute_result"
    }
   ],
   "source": [
    "range(0,10)\n"
   ]
  },
  {
   "cell_type": "code",
   "execution_count": 59,
   "id": "40253531-cd4b-4067-9a8f-2decc21dd57a",
   "metadata": {},
   "outputs": [],
   "source": [
    "def fibo(n):\n",
    "    a,b=0,1\n",
    "    for i in range(10):\n",
    "        yield a\n",
    "        a,b = b, a+b"
   ]
  },
  {
   "cell_type": "code",
   "execution_count": 60,
   "id": "dedf572a-9425-4e85-a66a-30be7182057a",
   "metadata": {},
   "outputs": [
    {
     "name": "stdout",
     "output_type": "stream",
     "text": [
      "0\n",
      "1\n",
      "1\n",
      "2\n",
      "3\n",
      "5\n",
      "8\n",
      "13\n",
      "21\n",
      "34\n"
     ]
    }
   ],
   "source": [
    "for i in fibo(10):\n",
    "    print(i)"
   ]
  },
  {
   "cell_type": "markdown",
   "id": "9ee96bfb-1281-44a5-a94d-475b4e19ad38",
   "metadata": {},
   "source": [
    "## 6"
   ]
  },
  {
   "cell_type": "markdown",
   "id": "368b9775-3ab8-4daf-a2d5-785b432a00fa",
   "metadata": {},
   "source": [
    "## 5"
   ]
  },
  {
   "cell_type": "code",
   "execution_count": 10,
   "id": "d83b932a-9485-4801-bdb3-4a992e97f3f9",
   "metadata": {},
   "outputs": [
    {
     "name": "stdout",
     "output_type": "stream",
     "text": [
      "Prime numbers between 0 and 1000 are:\n",
      "2\n",
      "3\n",
      "5\n",
      "7\n",
      "11\n",
      "13\n",
      "17\n",
      "19\n",
      "23\n",
      "29\n",
      "31\n",
      "37\n",
      "41\n",
      "43\n",
      "47\n",
      "53\n",
      "59\n",
      "61\n",
      "67\n",
      "71\n",
      "73\n",
      "79\n",
      "83\n",
      "89\n",
      "97\n",
      "101\n",
      "103\n",
      "107\n",
      "109\n",
      "113\n",
      "127\n",
      "131\n",
      "137\n",
      "139\n",
      "149\n",
      "151\n",
      "157\n",
      "163\n",
      "167\n",
      "173\n",
      "179\n",
      "181\n",
      "191\n",
      "193\n",
      "197\n",
      "199\n",
      "211\n",
      "223\n",
      "227\n",
      "229\n",
      "233\n",
      "239\n",
      "241\n",
      "251\n",
      "257\n",
      "263\n",
      "269\n",
      "271\n",
      "277\n",
      "281\n",
      "283\n",
      "293\n",
      "307\n",
      "311\n",
      "313\n",
      "317\n",
      "331\n",
      "337\n",
      "347\n",
      "349\n",
      "353\n",
      "359\n",
      "367\n",
      "373\n",
      "379\n",
      "383\n",
      "389\n",
      "397\n",
      "401\n",
      "409\n",
      "419\n",
      "421\n",
      "431\n",
      "433\n",
      "439\n",
      "443\n",
      "449\n",
      "457\n",
      "461\n",
      "463\n",
      "467\n",
      "479\n",
      "487\n",
      "491\n",
      "499\n",
      "503\n",
      "509\n",
      "521\n",
      "523\n",
      "541\n",
      "547\n",
      "557\n",
      "563\n",
      "569\n",
      "571\n",
      "577\n",
      "587\n",
      "593\n",
      "599\n",
      "601\n",
      "607\n",
      "613\n",
      "617\n",
      "619\n",
      "631\n",
      "641\n",
      "643\n",
      "647\n",
      "653\n",
      "659\n",
      "661\n",
      "673\n",
      "677\n",
      "683\n",
      "691\n",
      "701\n",
      "709\n",
      "719\n",
      "727\n",
      "733\n",
      "739\n",
      "743\n",
      "751\n",
      "757\n",
      "761\n",
      "769\n",
      "773\n",
      "787\n",
      "797\n",
      "809\n",
      "811\n",
      "821\n",
      "823\n",
      "827\n",
      "829\n",
      "839\n",
      "853\n",
      "857\n",
      "859\n",
      "863\n",
      "877\n",
      "881\n",
      "883\n",
      "887\n",
      "907\n",
      "911\n",
      "919\n",
      "929\n",
      "937\n",
      "941\n",
      "947\n",
      "953\n",
      "967\n",
      "971\n",
      "977\n",
      "983\n",
      "991\n",
      "997\n"
     ]
    }
   ],
   "source": [
    "lower = 0\n",
    "upper = 1000\n",
    "print(\"Prime numbers between\", lower, \"and\", upper, \"are:\")\n",
    "for num in range(lower, upper + 1):\n",
    "    if num > 1:\n",
    "        for i in range(2, num):\n",
    "            if (num % i) == 0:\n",
    "                break\n",
    "        else:\n",
    "            print(num)"
   ]
  },
  {
   "cell_type": "code",
   "execution_count": 9,
   "id": "e8767e85-c111-4115-91cb-829013acffc7",
   "metadata": {},
   "outputs": [
    {
     "name": "stdin",
     "output_type": "stream",
     "text": [
      "How many terms?  10\n"
     ]
    },
    {
     "name": "stdout",
     "output_type": "stream",
     "text": [
      "Fibonacci sequence:\n",
      "0\n",
      "1\n",
      "1\n",
      "2\n",
      "3\n",
      "5\n",
      "8\n",
      "13\n",
      "21\n",
      "34\n"
     ]
    }
   ],
   "source": [
    "n = int(input(\"How many terms? \"))\n",
    "a, b = 0, 1\n",
    "count = 0\n",
    "if n <= 0:\n",
    "    print(\"Please enter a positive integer\")\n",
    "\n",
    "elif n == 1:\n",
    "    print(\"Fibonacci sequence upto\",n,\":\")\n",
    "    print(a)\n",
    "\n",
    "else:\n",
    "    print(\"Fibonacci sequence:\")\n",
    "    while count < n:\n",
    "        print(a)\n",
    "        nth = a + b\n",
    "        a =b\n",
    "        b = nth\n",
    "        count += 1"
   ]
  },
  {
   "cell_type": "markdown",
   "id": "039660cd-fddf-4707-ad47-7fe2621dfd74",
   "metadata": {},
   "source": [
    "## 7"
   ]
  },
  {
   "cell_type": "code",
   "execution_count": 11,
   "id": "aff066e0-d4b5-4c7f-a5c0-18f354dabde0",
   "metadata": {},
   "outputs": [
    {
     "name": "stdout",
     "output_type": "stream",
     "text": [
      "['p', 'w', 's', 'k', 'i', 'l', 'l', 's']\n"
     ]
    }
   ],
   "source": [
    "l=[]\n",
    "for i in 'pwskills':\n",
    "    l.append(i)\n",
    "print(l)"
   ]
  },
  {
   "cell_type": "markdown",
   "id": "71a2e492-fdbc-4620-9190-ae702359b7f2",
   "metadata": {},
   "source": [
    "## 8"
   ]
  },
  {
   "cell_type": "code",
   "execution_count": 20,
   "id": "cda90db0-93c1-47f6-bc03-1dc3fef86bb8",
   "metadata": {},
   "outputs": [
    {
     "name": "stdin",
     "output_type": "stream",
     "text": [
      "Enter any number to check wheather it's palindrome or not 121\n"
     ]
    },
    {
     "name": "stdout",
     "output_type": "stream",
     "text": [
      "Is palindrome\n"
     ]
    }
   ],
   "source": [
    "n=int(input(\"Enter any number to check wheather it's palindrome or not\"))\n",
    "rev = 0\n",
    "n1=n\n",
    "while n > 0:\n",
    "    rem = n%10\n",
    "    rev = rev*10+rem\n",
    "    n = n//10\n",
    "if(rev == n1):\n",
    "    print(\"Is palindrome\")\n",
    "else:\n",
    "    print(\"Not palindrome\")\n",
    "    "
   ]
  },
  {
   "cell_type": "markdown",
   "id": "fc02c261-c1af-4655-8ab2-e7d41478121e",
   "metadata": {},
   "source": [
    "## 8"
   ]
  },
  {
   "cell_type": "code",
   "execution_count": 24,
   "id": "9822a3b9-8e5c-4db5-931d-2dce30f22c68",
   "metadata": {},
   "outputs": [],
   "source": [
    "l = list(range(1,100))"
   ]
  },
  {
   "cell_type": "code",
   "execution_count": 25,
   "id": "b9272ce8-dfbc-420d-b297-bbaa39ead19c",
   "metadata": {},
   "outputs": [
    {
     "name": "stdout",
     "output_type": "stream",
     "text": [
      "[1, 2, 3, 4, 5, 6, 7, 8, 9, 10, 11, 12, 13, 14, 15, 16, 17, 18, 19, 20, 21, 22, 23, 24, 25, 26, 27, 28, 29, 30, 31, 32, 33, 34, 35, 36, 37, 38, 39, 40, 41, 42, 43, 44, 45, 46, 47, 48, 49, 50, 51, 52, 53, 54, 55, 56, 57, 58, 59, 60, 61, 62, 63, 64, 65, 66, 67, 68, 69, 70, 71, 72, 73, 74, 75, 76, 77, 78, 79, 80, 81, 82, 83, 84, 85, 86, 87, 88, 89, 90, 91, 92, 93, 94, 95, 96, 97, 98, 99]\n"
     ]
    }
   ],
   "source": [
    "print(l)"
   ]
  },
  {
   "cell_type": "code",
   "execution_count": 26,
   "id": "4ea888ed-081a-4cc8-a0fc-119fcd2a4e68",
   "metadata": {},
   "outputs": [
    {
     "data": {
      "text/plain": [
       "[True,\n",
       " False,\n",
       " True,\n",
       " False,\n",
       " True,\n",
       " False,\n",
       " True,\n",
       " False,\n",
       " True,\n",
       " False,\n",
       " True,\n",
       " False,\n",
       " True,\n",
       " False,\n",
       " True,\n",
       " False,\n",
       " True,\n",
       " False,\n",
       " True,\n",
       " False,\n",
       " True,\n",
       " False,\n",
       " True,\n",
       " False,\n",
       " True,\n",
       " False,\n",
       " True,\n",
       " False,\n",
       " True,\n",
       " False,\n",
       " True,\n",
       " False,\n",
       " True,\n",
       " False,\n",
       " True,\n",
       " False,\n",
       " True,\n",
       " False,\n",
       " True,\n",
       " False,\n",
       " True,\n",
       " False,\n",
       " True,\n",
       " False,\n",
       " True,\n",
       " False,\n",
       " True,\n",
       " False,\n",
       " True,\n",
       " False,\n",
       " True,\n",
       " False,\n",
       " True,\n",
       " False,\n",
       " True,\n",
       " False,\n",
       " True,\n",
       " False,\n",
       " True,\n",
       " False,\n",
       " True,\n",
       " False,\n",
       " True,\n",
       " False,\n",
       " True,\n",
       " False,\n",
       " True,\n",
       " False,\n",
       " True,\n",
       " False,\n",
       " True,\n",
       " False,\n",
       " True,\n",
       " False,\n",
       " True,\n",
       " False,\n",
       " True,\n",
       " False,\n",
       " True,\n",
       " False,\n",
       " True,\n",
       " False,\n",
       " True,\n",
       " False,\n",
       " True,\n",
       " False,\n",
       " True,\n",
       " False,\n",
       " True,\n",
       " False,\n",
       " True,\n",
       " False,\n",
       " True,\n",
       " False,\n",
       " True,\n",
       " False,\n",
       " True,\n",
       " False,\n",
       " True]"
      ]
     },
     "execution_count": 26,
     "metadata": {},
     "output_type": "execute_result"
    }
   ],
   "source": [
    "[i%2!=0 for i in l]\n"
   ]
  },
  {
   "cell_type": "code",
   "execution_count": null,
   "id": "d7a5f152-70d9-465a-8071-04d7d942b4d8",
   "metadata": {},
   "outputs": [],
   "source": []
  }
 ],
 "metadata": {
  "kernelspec": {
   "display_name": "Python 3 (ipykernel)",
   "language": "python",
   "name": "python3"
  },
  "language_info": {
   "codemirror_mode": {
    "name": "ipython",
    "version": 3
   },
   "file_extension": ".py",
   "mimetype": "text/x-python",
   "name": "python",
   "nbconvert_exporter": "python",
   "pygments_lexer": "ipython3",
   "version": "3.10.8"
  }
 },
 "nbformat": 4,
 "nbformat_minor": 5
}
