{
 "cells": [
  {
   "cell_type": "markdown",
   "id": "ce2c4a37",
   "metadata": {},
   "source": [
    "Q1. Create a Pandas Series that contains the following data: 4, 8, 15, 16, 23, and 42. Then, print the series."
   ]
  },
  {
   "cell_type": "code",
   "execution_count": 1,
   "id": "1456df9a",
   "metadata": {},
   "outputs": [],
   "source": [
    "import pandas as pd"
   ]
  },
  {
   "cell_type": "code",
   "execution_count": 5,
   "id": "ce7a8c1d",
   "metadata": {},
   "outputs": [],
   "source": [
    "items = [4,8,15,16,23,42]\n",
    "s = pd.Series(items)"
   ]
  },
  {
   "cell_type": "code",
   "execution_count": 6,
   "id": "734a8cc3",
   "metadata": {},
   "outputs": [
    {
     "name": "stdout",
     "output_type": "stream",
     "text": [
      "0     4\n",
      "1     8\n",
      "2    15\n",
      "3    16\n",
      "4    23\n",
      "5    42\n",
      "dtype: int64\n"
     ]
    }
   ],
   "source": [
    "print(s)"
   ]
  },
  {
   "cell_type": "markdown",
   "id": "cb2ba755",
   "metadata": {},
   "source": [
    "Q2. Create a variable of list type containing 10 elements in it, and apply pandas.Series function on the variable print it.\n"
   ]
  },
  {
   "cell_type": "code",
   "execution_count": 7,
   "id": "3ab8740f",
   "metadata": {},
   "outputs": [
    {
     "name": "stdout",
     "output_type": "stream",
     "text": [
      "0     1\n",
      "1     2\n",
      "2     3\n",
      "3     4\n",
      "4     5\n",
      "5     6\n",
      "6     7\n",
      "7     8\n",
      "8     9\n",
      "9    10\n",
      "dtype: int64\n"
     ]
    }
   ],
   "source": [
    "l = [1,2,3,4,5,6,7,8,9,10]\n",
    "series = pd.Series(l)\n",
    "print(series)"
   ]
  },
  {
   "cell_type": "markdown",
   "id": "66cde9c2",
   "metadata": {},
   "source": [
    "Q3. Create a Pandas DataFrame that contains the following data:\n",
    "\n",
    "Then, print the DataFrame."
   ]
  },
  {
   "cell_type": "code",
   "execution_count": 8,
   "id": "a4f0875e",
   "metadata": {},
   "outputs": [
    {
     "name": "stdout",
     "output_type": "stream",
     "text": [
      "     Name  Age  Gender\n",
      "0   Alice   25  Female\n",
      "1     Bob   30    Male\n",
      "2  claire   27  Female\n"
     ]
    }
   ],
   "source": [
    "lst = [['Alice',25,'Female'],['Bob',30,'Male'],['claire',27,'Female']]\n",
    "df = pd.DataFrame(lst,columns=['Name','Age','Gender'])\n",
    "print(df)"
   ]
  },
  {
   "cell_type": "markdown",
   "id": "e66cf91e",
   "metadata": {},
   "source": [
    "Q4. What is ‘DataFrame’ in pandas and how is it different from pandas.series? \n"
   ]
  },
  {
   "cell_type": "markdown",
   "id": "15235e8d",
   "metadata": {},
   "source": [
    "DataFrame in pandas is a 2 dimensional data structure, like a 2d array or table wih row and columns.\n",
    "\n",
    "Series can only contain single list with index, whereas dataframe can be made of more than one series.\n"
   ]
  },
  {
   "cell_type": "markdown",
   "id": "367136ff",
   "metadata": {},
   "source": [
    "Q5. What are some common functions you can use to manipulate data in a Pandas DataFrame? Can\n",
    "you give an example of when you might use one of these functions?"
   ]
  },
  {
   "cell_type": "markdown",
   "id": "b37da12d",
   "metadata": {},
   "source": [
    "1. Read Data\n"
   ]
  },
  {
   "cell_type": "code",
   "execution_count": null,
   "id": "a82df667",
   "metadata": {},
   "outputs": [],
   "source": [
    "df = pd.read_csv(\"file.csv\")"
   ]
  },
  {
   "cell_type": "markdown",
   "id": "bdf81ac1",
   "metadata": {},
   "source": [
    "2.  Head and Tail"
   ]
  },
  {
   "cell_type": "code",
   "execution_count": null,
   "id": "6dd67013",
   "metadata": {},
   "outputs": [],
   "source": [
    "df.head()\n",
    "df.tail()"
   ]
  },
  {
   "cell_type": "markdown",
   "id": "7ce62d16",
   "metadata": {},
   "source": [
    "3. Shape, Size and Info"
   ]
  },
  {
   "cell_type": "code",
   "execution_count": null,
   "id": "d75dda8d",
   "metadata": {},
   "outputs": [],
   "source": [
    "df.shape()\n",
    "df.size()\n",
    "df.info()"
   ]
  },
  {
   "cell_type": "markdown",
   "id": "5df13f77",
   "metadata": {},
   "source": [
    "Q6.Which of the following is mutable in nature Series, DataFrame, Panel?"
   ]
  },
  {
   "cell_type": "markdown",
   "id": "f091beec",
   "metadata": {},
   "source": [
    "Data frames are size and value mutable and series are only value mutable but not size mutable\n",
    "panel are also value mutable but not size mutable"
   ]
  },
  {
   "cell_type": "markdown",
   "id": "0b2bbc7e",
   "metadata": {},
   "source": [
    "Q7. Create a DataFrame using multiple Series. Explain with an example."
   ]
  },
  {
   "cell_type": "code",
   "execution_count": 9,
   "id": "775d2a55",
   "metadata": {},
   "outputs": [
    {
     "name": "stdout",
     "output_type": "stream",
     "text": [
      "         0      1     2\n",
      "0    Spark  22000  1000\n",
      "1  PySpark  25000  2300\n",
      "2   Hadoop  23000  1000\n"
     ]
    }
   ],
   "source": [
    "courses = pd.Series([\"Spark\",\"PySpark\",\"Hadoop\"])\n",
    "fees = pd.Series([22000,25000,23000])\n",
    "discount  = pd.Series([1000,2300,1000])\n",
    "\n",
    "\n",
    "df=pd.concat([courses,fees],axis=1)\n",
    "\n",
    "\n",
    "df=pd.concat([courses,fees,discount],axis=1)\n",
    "print(df)\n"
   ]
  },
  {
   "cell_type": "code",
   "execution_count": null,
   "id": "83c9d8c6",
   "metadata": {},
   "outputs": [],
   "source": []
  }
 ],
 "metadata": {
  "kernelspec": {
   "display_name": "Python 3 (ipykernel)",
   "language": "python",
   "name": "python3"
  },
  "language_info": {
   "codemirror_mode": {
    "name": "ipython",
    "version": 3
   },
   "file_extension": ".py",
   "mimetype": "text/x-python",
   "name": "python",
   "nbconvert_exporter": "python",
   "pygments_lexer": "ipython3",
   "version": "3.9.13"
  }
 },
 "nbformat": 4,
 "nbformat_minor": 5
}
