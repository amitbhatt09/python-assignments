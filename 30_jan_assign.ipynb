{
 "cells": [
  {
   "cell_type": "code",
   "execution_count": 6,
   "id": "b7a91cca-34d5-4203-97e4-f2ec528cc25c",
   "metadata": {},
   "outputs": [
    {
     "name": "stdin",
     "output_type": "stream",
     "text": [
      "Enter your percentage 45\n"
     ]
    },
    {
     "name": "stdout",
     "output_type": "stream",
     "text": [
      "D\n"
     ]
    }
   ],
   "source": [
    "##1\n",
    "per = int(input(\"Enter your percentage\"))\n",
    "if per >90:\n",
    "    print(\"A\")\n",
    "elif per >80 and per <=90:\n",
    "    print(\"B\")\n",
    "elif per >=60 and per <=80:\n",
    "    print(\"C\")\n",
    "else : \n",
    "    print(\"D\")"
   ]
  },
  {
   "cell_type": "code",
   "execution_count": 28,
   "id": "a990e6aa-b3fd-4db0-a3df-47b1ff703b25",
   "metadata": {},
   "outputs": [
    {
     "name": "stdin",
     "output_type": "stream",
     "text": [
      "Enter bike cost 750000\n"
     ]
    },
    {
     "name": "stdout",
     "output_type": "stream",
     "text": [
      "Road tax to be paid is  112500.0\n"
     ]
    }
   ],
   "source": [
    "##2\n",
    "cp = int(input(\"Enter bike cost\"))\n",
    "tax =0\n",
    "if cp > 100000:\n",
    "        tax = (15/100)*cp\n",
    "        print(\"Road tax to be paid is \",tax)\n",
    "elif cp > 50000 and cp <=100000:\n",
    "        tax = (10/100)*cp\n",
    "        print(\"Road tax to be paid is \",tax)\n",
    "elif cp <= 50000:\n",
    "        tax = (5/100)*cp\n",
    "        print(\"Road tax to be paid is \",tax)\n",
    "else:\n",
    "        print(\"No tax\")"
   ]
  },
  {
   "cell_type": "code",
   "execution_count": 29,
   "id": "1dc5942d-9a50-42ba-8399-de84078e1141",
   "metadata": {},
   "outputs": [
    {
     "name": "stdin",
     "output_type": "stream",
     "text": [
      "Enter any city from Delhi, Agra, Jaipur  Agra\n"
     ]
    },
    {
     "name": "stdout",
     "output_type": "stream",
     "text": [
      "Taj Mahal\n"
     ]
    }
   ],
   "source": [
    "##3\n",
    "city = input(\"Enter any city from Delhi, Agra, Jaipur \")\n",
    "if city == \"Delhi\":\n",
    "    print(\"red Fort\")\n",
    "elif city == \"Agra\":\n",
    "    print(\"Taj Mahal\")\n",
    "elif city == \"Jaipur\":\n",
    "    print(\"Jal Mahal\")\n",
    "else:\n",
    "    print(\"Invalid city\")"
   ]
  },
  {
   "cell_type": "code",
   "execution_count": 30,
   "id": "4ca838e5-acb3-49f9-b766-0aa6e5c772c4",
   "metadata": {},
   "outputs": [
    {
     "name": "stdin",
     "output_type": "stream",
     "text": [
      "Enter any number 27\n"
     ]
    },
    {
     "name": "stdout",
     "output_type": "stream",
     "text": [
      "Divisible\n"
     ]
    }
   ],
   "source": [
    "##4\n",
    "num = int(input(\"Enter any number\"))\n",
    "if num % 3 ==0:\n",
    "    print(\"Divisible\")\n",
    "else:\n",
    "    print(\"Not divisible\")"
   ]
  },
  {
   "cell_type": "code",
   "execution_count": 38,
   "id": "4699adbc-f477-49e1-9d26-da9b0dae498b",
   "metadata": {},
   "outputs": [
    {
     "name": "stdin",
     "output_type": "stream",
     "text": [
      "Enter number 3\n"
     ]
    },
    {
     "name": "stdout",
     "output_type": "stream",
     "text": [
      "1\n",
      "2\n",
      "3\n"
     ]
    }
   ],
   "source": [
    "##5\n",
    "##while loop is use if we want to run a block of code untill certain condition is meet.\n",
    "num = int(input(\"Enter number\"))\n",
    "i = 1\n",
    "while(i<=num):\n",
    "    print(i)\n",
    "    i+=1"
   ]
  },
  {
   "cell_type": "code",
   "execution_count": 1,
   "id": "6ce6e179-596d-43b7-9eca-351afe2baf43",
   "metadata": {},
   "outputs": [
    {
     "name": "stdout",
     "output_type": "stream",
     "text": [
      "1 \n",
      "1 2 \n",
      "1 2 3 \n",
      "1 2 3 4 \n",
      "1 2 3 4 5 \n"
     ]
    }
   ],
   "source": [
    "##6\n",
    "rows = 5\n",
    "for i in range(1, rows + 1):\n",
    "    for j in range(1, i + 1):\n",
    "        print(j, end=' ')\n",
    "    print('')"
   ]
  },
  {
   "cell_type": "code",
   "execution_count": 2,
   "id": "75af5af1-1bf3-4fcc-b472-6e730491c5f9",
   "metadata": {},
   "outputs": [
    {
     "name": "stdout",
     "output_type": "stream",
     "text": [
      "1 1 1 1 1 \n",
      "2 2 2 2 \n",
      "3 3 3 \n",
      "4 4 \n",
      "5 \n"
     ]
    }
   ],
   "source": [
    "rows = 5\n",
    "b = 0\n",
    "# reverse for loop from 5 to 0\n",
    "for i in range(rows, 0, -1):\n",
    "    b += 1\n",
    "    for j in range(1, i + 1):\n",
    "        print(b, end=' ')\n",
    "    print('\\r')"
   ]
  },
  {
   "cell_type": "code",
   "execution_count": 3,
   "id": "c6fc6036-3ac8-412b-a34d-232641e64a8f",
   "metadata": {},
   "outputs": [
    {
     "name": "stdout",
     "output_type": "stream",
     "text": [
      "5 5 5 5 5 \n",
      "5 5 5 5 \n",
      "5 5 5 \n",
      "5 5 \n",
      "5 \n"
     ]
    }
   ],
   "source": [
    "rows = 5\n",
    "num = rows\n",
    "# reverse for loop\n",
    "for i in range(rows, 0, -1):\n",
    "    for j in range(0, i):\n",
    "        print(num, end=' ')\n",
    "    print(\"\\r\")"
   ]
  },
  {
   "cell_type": "code",
   "execution_count": 40,
   "id": "3c9c7505-b0b2-42b6-8380-a2971b53e01f",
   "metadata": {},
   "outputs": [
    {
     "name": "stdout",
     "output_type": "stream",
     "text": [
      "10\n",
      "9\n",
      "8\n",
      "7\n",
      "6\n",
      "5\n",
      "4\n",
      "3\n",
      "2\n",
      "1\n"
     ]
    }
   ],
   "source": [
    "##7\n",
    "n=10\n",
    "i=0\n",
    "while (i<n):\n",
    "    print(n)\n",
    "    n-=1"
   ]
  },
  {
   "cell_type": "code",
   "execution_count": null,
   "id": "53dac695-7aae-492c-b100-191cea4dd931",
   "metadata": {},
   "outputs": [],
   "source": []
  }
 ],
 "metadata": {
  "kernelspec": {
   "display_name": "Python 3 (ipykernel)",
   "language": "python",
   "name": "python3"
  },
  "language_info": {
   "codemirror_mode": {
    "name": "ipython",
    "version": 3
   },
   "file_extension": ".py",
   "mimetype": "text/x-python",
   "name": "python",
   "nbconvert_exporter": "python",
   "pygments_lexer": "ipython3",
   "version": "3.10.8"
  }
 },
 "nbformat": 4,
 "nbformat_minor": 5
}
