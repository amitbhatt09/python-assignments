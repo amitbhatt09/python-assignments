{
 "cells": [
  {
   "cell_type": "markdown",
   "id": "72da3f12-7b05-4ba4-aca2-3794deece1f6",
   "metadata": {},
   "source": [
    "## 1"
   ]
  },
  {
   "cell_type": "code",
   "execution_count": 1,
   "id": "53ff79ae-9655-4e6d-9d70-a62930fe8cb5",
   "metadata": {},
   "outputs": [],
   "source": [
    "\"\"\"Abstraction in python is defined as a process of handling complexity by hiding \n",
    "unnecessary information from the user. I is done to reduce complexity and increase \n",
    "efficency\"\"\"\n",
    "\n"
   ]
  },
  {
   "cell_type": "code",
   "execution_count": 2,
   "id": "fc260791-2bbc-4d8a-87ff-3a651d44ad8b",
   "metadata": {},
   "outputs": [
    {
     "name": "stdout",
     "output_type": "stream",
     "text": [
      "I have 3 sides\n",
      "I have 4 sides\n",
      "I have 5 sides\n",
      "I have 6 sides\n"
     ]
    }
   ],
   "source": [
    "from abc import ABC, abstractmethod\n",
    "\n",
    "class Polygon(ABC):\n",
    "\n",
    "\t@abstractmethod\n",
    "\tdef noofsides(self):\n",
    "\t\tpass\n",
    "\n",
    "class Triangle(Polygon):\n",
    "\n",
    "\t\tdef noofsides(self):\n",
    "\t\tprint(\"I have 3 sides\")\n",
    "\n",
    "class Pentagon(Polygon):\n",
    "\n",
    "\tdef noofsides(self):\n",
    "\t\tprint(\"I have 5 sides\")\n",
    "\n",
    "class Hexagon(Polygon):\n",
    "\n",
    "\t\n",
    "\tdef noofsides(self):\n",
    "\t\tprint(\"I have 6 sides\")\n",
    "\n",
    "class Quadrilateral(Polygon):\n",
    "\n",
    "\t\n",
    "\tdef noofsides(self):\n",
    "\t\tprint(\"I have 4 sides\")\n",
    "\n",
    "\n",
    "R = Triangle()\n",
    "R.noofsides()\n",
    "\n",
    "K = Quadrilateral()\n",
    "K.noofsides()\n",
    "\n",
    "R = Pentagon()\n",
    "R.noofsides()\n",
    "\n",
    "K = Hexagon()\n",
    "K.noofsides()\n"
   ]
  },
  {
   "cell_type": "markdown",
   "id": "7a008209-8df9-4da5-bd33-cff711800cb8",
   "metadata": {},
   "source": [
    "## 2"
   ]
  },
  {
   "cell_type": "code",
   "execution_count": 3,
   "id": "9ad59fd9-b832-4b3a-86ff-3cbb55f42d1d",
   "metadata": {},
   "outputs": [],
   "source": [
    "\"\"\"Differene between encapsulation and abstraction\n",
    "Abstraction is a process of hiding unnecessary data and showing \n",
    "only relevant data. Out of an ocean of data, we are only maintaining the \n",
    "transparency of some data to the user. This important concept in object-oriented \n",
    "programming will reduce the complexity of the \n",
    "code and increases the readability.\n",
    "Encapsulation is binding the data members with member variables. \n",
    "This will avoid the direct access of variables, because direct access of variables \n",
    "may violate privacy, and hiding of the implementation will not be possible.\"\"\""
   ]
  },
  {
   "cell_type": "code",
   "execution_count": 4,
   "id": "5be17c59-4a02-4d45-b0db-674cb9aa330c",
   "metadata": {},
   "outputs": [],
   "source": [
    "class car:\n",
    "    def __init__(self,model,color,speed):\n",
    "        \n",
    "        self.__model = model\n",
    "        self.__color = color\n",
    "        self.__speed = 0\n",
    "        \n",
    "    def set_speed(self,speed):\n",
    "        self.__speed = 0 if speed < 0 else speed\n",
    "        \n",
    "    def get_speed(self):\n",
    "        return self.__speed"
   ]
  },
  {
   "cell_type": "code",
   "execution_count": 5,
   "id": "2bee2155-96e8-440b-83f6-689cd8979cc2",
   "metadata": {},
   "outputs": [],
   "source": [
    "c = car(\"BMW\",\"RED\",123)"
   ]
  },
  {
   "cell_type": "code",
   "execution_count": 6,
   "id": "03b5b810-bb4c-4e06-bf9d-4889456a802e",
   "metadata": {},
   "outputs": [
    {
     "data": {
      "text/plain": [
       "'RED'"
      ]
     },
     "execution_count": 6,
     "metadata": {},
     "output_type": "execute_result"
    }
   ],
   "source": [
    "c._car__color"
   ]
  },
  {
   "cell_type": "markdown",
   "id": "105cf4d0-da59-4af4-8b43-575d6fd3543d",
   "metadata": {},
   "source": [
    "## 3"
   ]
  },
  {
   "cell_type": "code",
   "execution_count": null,
   "id": "789d6c35-6de6-4a24-94f8-a5ddf2f90b90",
   "metadata": {},
   "outputs": [],
   "source": [
    "\"\"\"The main goal of the abstract base class is to provide a standardized way to test\n",
    "whether an object adheres to a given specification. It can also prevent any attempt \n",
    "to instantiate a subclass that doesn’t override a particular method in the superclass. \n",
    "And finally, using an abstract class, a class can derive identity\n",
    "from another class without any object inheritance.\"\"\""
   ]
  },
  {
   "cell_type": "code",
   "execution_count": 7,
   "id": "0ff0476a-cbb1-46e3-8946-574754116419",
   "metadata": {},
   "outputs": [
    {
     "name": "stdout",
     "output_type": "stream",
     "text": [
      "<class 'dict'>\n"
     ]
    }
   ],
   "source": [
    "import abc\n",
    "\n",
    "\n",
    "class AbstractClass(metaclass=abc.ABCMeta):\n",
    "\tdef abstractfunc(self):\n",
    "\t\treturn None\n",
    "\n",
    "\n",
    "print(AbstractClass.register(dict))\n"
   ]
  },
  {
   "cell_type": "markdown",
   "id": "71be27b7-b3ac-44c0-bc28-712c2885711a",
   "metadata": {},
   "source": [
    "## 4"
   ]
  },
  {
   "cell_type": "raw",
   "id": "1745fbd0-7acd-4b8e-be1f-579f708098d4",
   "metadata": {},
   "source": [
    "In Python, abstraction can be achieved by having/using abstract classes and \n",
    "methods in our programs.\n",
    "An abstract method is a method that is declared, but does not contain implementation."
   ]
  },
  {
   "cell_type": "code",
   "execution_count": 8,
   "id": "04860e61-0b5f-4982-a179-8eb138e0fe83",
   "metadata": {},
   "outputs": [
    {
     "name": "stdout",
     "output_type": "stream",
     "text": [
      "The mileage is 30kmph\n",
      "The mileage is 27kmph \n",
      "The mileage is 25kmph \n",
      "The mileage is 24kmph \n"
     ]
    }
   ],
   "source": [
    "from abc import ABC, abstractmethod   \n",
    "class Car(ABC):   \n",
    "    def mileage(self):   \n",
    "        pass  \n",
    "  \n",
    "class Tesla(Car):   \n",
    "    def mileage(self):   \n",
    "        print(\"The mileage is 30kmph\")   \n",
    "class Suzuki(Car):   \n",
    "    def mileage(self):   \n",
    "        print(\"The mileage is 25kmph \")   \n",
    "class Duster(Car):   \n",
    "     def mileage(self):   \n",
    "          print(\"The mileage is 24kmph \")   \n",
    "  \n",
    "class Renault(Car):   \n",
    "    def mileage(self):   \n",
    "            print(\"The mileage is 27kmph \")   \n",
    "          \n",
    "# Driver code   \n",
    "t= Tesla ()   \n",
    "t.mileage()   \n",
    "  \n",
    "r = Renault()   \n",
    "r.mileage()   \n",
    "  \n",
    "s = Suzuki()   \n",
    "s.mileage()   \n",
    "d = Duster()   \n",
    "d.mileage()  "
   ]
  },
  {
   "cell_type": "markdown",
   "id": "dd8c6e32-9590-4f6c-87b1-58e8aea1af0e",
   "metadata": {},
   "source": [
    "## 5"
   ]
  },
  {
   "cell_type": "code",
   "execution_count": null,
   "id": "621b62d0-e6d2-4e9f-9a4c-50adf3409d42",
   "metadata": {},
   "outputs": [],
   "source": [
    "\"\"\"We cannot create an abstract class in Python directly. However, \n",
    "Python does provide a module that allows us to define abstract classes. \n",
    "The module we can use to create an abstract class in Python is abc(abstract base class)\n",
    "module.\"\"\""
   ]
  },
  {
   "cell_type": "code",
   "execution_count": null,
   "id": "cbccce5e-e0a4-4df0-babf-d2da0e1eb615",
   "metadata": {},
   "outputs": [],
   "source": [
    "from abc import ABC\n",
    "class <Abstract_Class_Name>(ABC):\n",
    "\t\n"
   ]
  }
 ],
 "metadata": {
  "kernelspec": {
   "display_name": "Python 3 (ipykernel)",
   "language": "python",
   "name": "python3"
  },
  "language_info": {
   "codemirror_mode": {
    "name": "ipython",
    "version": 3
   },
   "file_extension": ".py",
   "mimetype": "text/x-python",
   "name": "python",
   "nbconvert_exporter": "python",
   "pygments_lexer": "ipython3",
   "version": "3.10.8"
  }
 },
 "nbformat": 4,
 "nbformat_minor": 5
}
